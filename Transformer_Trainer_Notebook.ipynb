{
 "cells": [
  {
   "cell_type": "markdown",
   "metadata": {
    "id": "VmYGVziz50tu"
   },
   "source": [
    "- Remove non alphanumeric characters for simple training"
   ]
  },
  {
   "cell_type": "code",
   "execution_count": 1,
   "metadata": {},
   "outputs": [
    {
     "name": "stdout",
     "output_type": "stream",
     "text": [
      "hello\n"
     ]
    }
   ],
   "source": [
    "print(\"hello\")"
   ]
  },
  {
   "cell_type": "code",
   "execution_count": 3,
   "metadata": {
    "id": "FOwRggVcwtzP"
   },
   "outputs": [],
   "source": [
    "from transformer import Transformer \n",
    "import torch\n",
    "import numpy as np"
   ]
  },
  {
   "cell_type": "code",
   "execution_count": 4,
   "metadata": {
    "id": "6TApzOj5xCwR"
   },
   "outputs": [],
   "source": [
    "english_file = 'D:/SEM - 3/Project/Translation/IITB.en-hi.en' \n",
    "hindi_file = 'D:/SEM - 3/Project/Translation/IITB.en-hi.hi' \n",
    "\n",
    "\n",
    "START_TOKEN = '<ST>'\n",
    "PADDING_TOKEN = '<PT>'\n",
    "END_TOKEN = '<ET>'\n",
    "\n",
    "\n",
    "hindi_vocabulary = [START_TOKEN, \" \", \"!\", '\"', '#', '$', ';', '%', '&', \"'\", '(', ')', '*', '+', ',', '-', '.', '/',\n",
    "                    '0', '1', '2', '3', '4', '5', '6', '7', '8', '9', ':', '<', '=', '>', '?', 'ˌ',\n",
    "                    'ँ', 'आ', 'इ', 'ई', 'उ', 'ऊ', 'ऋ', 'ॠ', 'ऌ', 'ऎ', 'ए', 'ऐ', 'ऒ', 'ओ', 'औ',\n",
    "                    'क', 'ख', 'ग', 'घ', 'ङ',\n",
    "                    'च', 'छ', 'ज', 'झ', 'ञ',\n",
    "                    'ट', 'ठ', 'ड', 'ढ', 'ण',\n",
    "                    'त', 'थ', 'द', 'ध', 'न',\n",
    "                    'प', 'फ', 'ब', 'भ', 'म',\n",
    "                    'य', 'र', 'ऱ', 'ल', 'ळ', 'व', 'श', 'ष', 'स', 'ह',\n",
    "                    '़', 'ऽ', 'ा', 'ि', 'ी', 'ु', 'ू', 'ृ', 'ॄ', 'ॆ', 'े', 'ै', 'ॊ', 'ो', 'ौ', '्', 'ॕ', 'ॖ', 'फ़', 'ॣ', 'ं', 'ः',\n",
    "                    '०', '१', '२', '३', '४', '५', '६', '७', '८', '९', PADDING_TOKEN, END_TOKEN]\n",
    "\n",
    "english_vocabulary = [START_TOKEN, ' ', '!', '\"', '#', '$', '%', '&', \"'\", '_', '(', ')', '*', '+', ',', '-', '.', '/',\n",
    "                        '0', '1', '2', '3', '4', '5', '6', '7', '8', '9',\n",
    "                        ':', '<', '=', '>', '?', '@',\n",
    "                        'A', 'B', 'C', 'D', 'E', 'F', 'G', 'H', 'I', 'J', 'K', 'L',\n",
    "                        'M', 'N', 'O', 'P', 'Q', 'R', 'S', 'T', 'U', 'V', 'W', 'X',\n",
    "                        'Y', 'Z',\n",
    "                        \"[\", '\\' , \"]\" , \"^\", \"_\"', \"`\",\n",
    "                        'a', 'b', 'c', 'd', 'e', 'f', 'g', 'h', 'i', 'j', 'k', 'l',\n",
    "                        'm', 'n', 'o', 'p', 'q', 'r', 's', 't', 'u', 'v', 'w', 'x',\n",
    "                        'y', 'z',\n",
    "                        '{', '|', '}', '~', PADDING_TOKEN, END_TOKEN]"
   ]
  },
  {
   "cell_type": "code",
   "execution_count": 5,
   "metadata": {
    "id": "gA8ESmCrNoc7"
   },
   "outputs": [],
   "source": [
    "index_to_hindi = {k:v for k,v in enumerate(hindi_vocabulary)}\n",
    "hindi_to_index = {v:k for k,v in enumerate(hindi_vocabulary)}\n",
    "index_to_english = {k:v for k,v in enumerate(english_vocabulary)}\n",
    "english_to_index = {v:k for k,v in enumerate(english_vocabulary)}"
   ]
  },
  {
   "cell_type": "code",
   "execution_count": 6,
   "metadata": {
    "id": "9SYGjRdoxRg-"
   },
   "outputs": [],
   "source": [
    "with open(english_file, 'r' , encoding = 'utf8') as file:\n",
    "    english_sentences = file.readlines()\n",
    "with open(hindi_file, 'r' ,  encoding = 'utf8') as file:\n",
    "    hindi_sentences = file.readlines()\n",
    "english_sentences = [sentence.rstrip('\\n').lower() for sentence in english_sentences]\n",
    "hindi_sentences = [sentence.rstrip('\\n') for sentence in hindi_sentences]"
   ]
  },
  {
   "cell_type": "code",
   "execution_count": 7,
   "metadata": {
    "colab": {
     "base_uri": "https://localhost:8080/"
    },
    "id": "CUB-BkgFxXfM",
    "outputId": "efab2e69-826f-4903-c0e6-aa87749df82e"
   },
   "outputs": [
    {
     "data": {
      "text/plain": [
       "['give your application an accessibility workout',\n",
       " 'accerciser accessibility explorer',\n",
       " 'the default plugin layout for the bottom panel',\n",
       " 'the default plugin layout for the top panel',\n",
       " 'a list of plugins that are disabled by default',\n",
       " 'highlight duration',\n",
       " 'the duration of the highlight box when selecting accessible nodes',\n",
       " 'highlight border color',\n",
       " 'the color and opacity of the highlight border.',\n",
       " 'highlight fill color']"
      ]
     },
     "execution_count": 7,
     "metadata": {},
     "output_type": "execute_result"
    }
   ],
   "source": [
    "english_sentences[:10]"
   ]
  },
  {
   "cell_type": "code",
   "execution_count": 8,
   "metadata": {
    "colab": {
     "base_uri": "https://localhost:8080/"
    },
    "id": "8OT-aznAxc5U",
    "outputId": "edb57709-ce36-47e6-fea5-79d8b6290737"
   },
   "outputs": [
    {
     "data": {
      "text/plain": [
       "['अपने अनुप्रयोग को पहुंचनीयता व्यायाम का लाभ दें',\n",
       " 'एक्सेर्साइसर पहुंचनीयता अन्वेषक',\n",
       " 'निचले पटल के लिए डिफोल्ट प्लग-इन खाका',\n",
       " 'ऊपरी पटल के लिए डिफोल्ट प्लग-इन खाका',\n",
       " 'उन प्लग-इनों की सूची जिन्हें डिफोल्ट रूप से निष्क्रिय किया गया है',\n",
       " 'अवधि को हाइलाइट रकें',\n",
       " 'पहुंचनीय आसंधि (नोड) को चुनते समय हाइलाइट बक्से की अवधि',\n",
       " 'सीमांत (बोर्डर) के रंग को हाइलाइट करें',\n",
       " 'हाइलाइट किए गए सीमांत का रंग और अपारदर्शिता। ',\n",
       " 'भराई के रंग को हाइलाइट करें']"
      ]
     },
     "execution_count": 8,
     "metadata": {},
     "output_type": "execute_result"
    }
   ],
   "source": [
    "hindi_sentences[:10]"
   ]
  },
  {
   "cell_type": "code",
   "execution_count": 18,
   "metadata": {
    "colab": {
     "base_uri": "https://localhost:8080/"
    },
    "id": "h8VAutsTxlaR",
    "outputId": "a7b92f48-832a-4c48-9991-84fda4a3d08c"
   },
   "outputs": [
    {
     "name": "stdout",
     "output_type": "stream",
     "text": [
      "1659083\n",
      "97th percentile length English: 271.0\n"
     ]
    }
   ],
   "source": [
    "import numpy as np\n",
    "PERCENTILE = 97\n",
    "print( f\"{PERCENTILE}th percentile length hindi: {np.percentile([len(x)max for x in hindi_sentences], PERCENTILE)}\" )\n",
    "print( f\"{PERCENTILE}th percentile length English: {np.percentile([len(x) for x in english_sentences], PERCENTILE)}\" )\n"
   ]
  },
  {
   "cell_type": "code",
   "execution_count": 12,
   "metadata": {},
   "outputs": [
    {
     "data": {
      "image/png": "[encoded data removed]",
      "text/plain": [
       "<Figure size 640x480 with 1 Axes>"
      ]
     },
     "metadata": {},
     "output_type": "display_data"
    }
   ],
   "source": [
    "import matplotlib.pyplot as plt\n",
    "from scipy.stats import norm\n",
    "\n",
    "word_counts = [len(sentence.split()) for sentence in hindi_sentences]\n",
    "\n",
    "plt.hist(word_counts, bins=range(min(word_counts), max(word_counts) + 1), density=True, edgecolor='black')\n",
    "\n",
    "# Fitting a normal distribution\n",
    "mu, std = norm.fit(word_counts)\n",
    "xmin, xmax = plt.xlim()\n",
    "x = np.linspace(xmin, xmax, 100)\n",
    "p = norm.pdf(x, mu, std)\n",
    "plt.plot(x, p, 'k', linewidth=2)\n",
    "\n",
    "plt.title('Distribution of Number of Words in Sentences')\n",
    "plt.xlabel('Number of Words')\n",
    "plt.ylabel('Probability Density')\n",
    "plt.grid(True)\n",
    "plt.show()"
   ]
  },
  {
   "cell_type": "code",
   "execution_count": 9,
   "metadata": {
    "colab": {
     "base_uri": "https://localhost:8080/"
    },
    "id": "HG9ezqvaxl4b",
    "outputId": "eebdb77a-fd56-4097-8173-8570f76a7b17"
   },
   "outputs": [
    {
     "name": "stdout",
     "output_type": "stream",
     "text": [
      "Number of sentences: 1659083\n",
      "Number of valid sentences: 619944\n"
     ]
    }
   ],
   "source": [
    "max_sequence_length = 200\n",
    "\n",
    "def is_valid_tokens(sentence, vocab):\n",
    "    for token in list(set(sentence)):\n",
    "        if token not in vocab:\n",
    "            return False\n",
    "    return True\n",
    "\n",
    "def is_valid_length(sentence, max_sequence_length):\n",
    "    return len(list(sentence)) < (max_sequence_length - 1) # need to re-add the end token so leaving 1 space\n",
    "\n",
    "valid_sentence_indicies = []\n",
    "for index in range(len(hindi_sentences)):\n",
    "    hindi_sentence, english_sentence = hindi_sentences[index], english_sentences[index]\n",
    "    if is_valid_length(hindi_sentence, max_sequence_length) and is_valid_length(english_sentence, max_sequence_length) and is_valid_tokens(hindi_sentence, hindi_vocabulary) and is_valid_tokens(english_sentence, english_vocabulary):\n",
    "        valid_sentence_indicies.append(index)\n",
    "\n",
    "print(f\"Number of sentences: {len(hindi_sentences)}\")\n",
    "print(f\"Number of valid sentences: {len(valid_sentence_indicies)}\")"
   ]
  },
  {
   "cell_type": "code",
   "execution_count": 10,
   "metadata": {
    "id": "o80QDn4CxsV7"
   },
   "outputs": [],
   "source": [
    "hindi_sentences = [hindi_sentences[i] for i in valid_sentence_indicies]\n",
    "english_sentences = [english_sentences[i] for i in valid_sentence_indicies]"
   ]
  },
  {
   "cell_type": "code",
   "execution_count": 11,
   "metadata": {
    "colab": {
     "base_uri": "https://localhost:8080/"
    },
    "id": "35xhLztQiLIQ",
    "outputId": "66da4faa-db42-4400-a614-7de7db42e32b"
   },
   "outputs": [
    {
     "data": {
      "text/plain": [
       "['निचले पटल के लिए डिफोल्ट प्लग-इन खाका',\n",
       " 'ऊपरी पटल के लिए डिफोल्ट प्लग-इन खाका',\n",
       " 'उन प्लग-इनों की सूची जिन्हें डिफोल्ट रूप से निष्क्रिय किया गया है']"
      ]
     },
     "execution_count": 11,
     "metadata": {},
     "output_type": "execute_result"
    }
   ],
   "source": [
    "hindi_sentences[:3]"
   ]
  },
  {
   "cell_type": "code",
   "execution_count": 12,
   "metadata": {
    "id": "xqOFnclmyxAE"
   },
   "outputs": [],
   "source": [
    "import torch\n",
    "\n",
    "d_model = 512\n",
    "batch_size = 30\n",
    "ffn_hidden = 2048\n",
    "num_heads = 8\n",
    "drop_prob = 0.1\n",
    "num_layers = 4\n",
    "max_sequence_length = 200\n",
    "hi_vocab_size = len(hindi_vocabulary)\n",
    "\n",
    "transformer = Transformer(d_model,\n",
    "                          ffn_hidden,\n",
    "                          num_heads,\n",
    "                          drop_prob,\n",
    "                          num_layers,\n",
    "                          max_sequence_length,\n",
    "                          hi_vocab_size,\n",
    "                          english_to_index,\n",
    "                          hindi_to_index,\n",
    "                          START_TOKEN,\n",
    "                          END_TOKEN,\n",
    "                          PADDING_TOKEN)"
   ]
  },
  {
   "cell_type": "code",
   "execution_count": 13,
   "metadata": {
    "colab": {
     "base_uri": "https://localhost:8080/"
    },
    "id": "Zc2hYQk9yxX0",
    "outputId": "7c848a1c-49c7-4177-a5b2-084c21bdd9b3"
   },
   "outputs": [
    {
     "data": {
      "text/plain": [
       "Transformer(\n",
       "  (encoder): Encoder(\n",
       "    (sentence_embedding): SentenceEmbedding(\n",
       "      (embedding): Embedding(95, 512)\n",
       "      (position_encoder): PositionalEncoding()\n",
       "      (dropout): Dropout(p=0.1, inplace=False)\n",
       "    )\n",
       "    (layers): SequentialEncoder(\n",
       "      (0): EncoderLayer(\n",
       "        (attention): MultiHeadAttention(\n",
       "          (qkv_layer): Linear(in_features=512, out_features=1536, bias=True)\n",
       "          (linear_layer): Linear(in_features=512, out_features=512, bias=True)\n",
       "        )\n",
       "        (norm1): LayerNormalization()\n",
       "        (dropout1): Dropout(p=0.1, inplace=False)\n",
       "        (ffn): PositionwiseFeedForward(\n",
       "          (linear1): Linear(in_features=512, out_features=2048, bias=True)\n",
       "          (linear2): Linear(in_features=2048, out_features=512, bias=True)\n",
       "          (relu): ReLU()\n",
       "          (dropout): Dropout(p=0.1, inplace=False)\n",
       "        )\n",
       "        (norm2): LayerNormalization()\n",
       "        (dropout2): Dropout(p=0.1, inplace=False)\n",
       "      )\n",
       "      (1): EncoderLayer(\n",
       "        (attention): MultiHeadAttention(\n",
       "          (qkv_layer): Linear(in_features=512, out_features=1536, bias=True)\n",
       "          (linear_layer): Linear(in_features=512, out_features=512, bias=True)\n",
       "        )\n",
       "        (norm1): LayerNormalization()\n",
       "        (dropout1): Dropout(p=0.1, inplace=False)\n",
       "        (ffn): PositionwiseFeedForward(\n",
       "          (linear1): Linear(in_features=512, out_features=2048, bias=True)\n",
       "          (linear2): Linear(in_features=2048, out_features=512, bias=True)\n",
       "          (relu): ReLU()\n",
       "          (dropout): Dropout(p=0.1, inplace=False)\n",
       "        )\n",
       "        (norm2): LayerNormalization()\n",
       "        (dropout2): Dropout(p=0.1, inplace=False)\n",
       "      )\n",
       "      (2): EncoderLayer(\n",
       "        (attention): MultiHeadAttention(\n",
       "          (qkv_layer): Linear(in_features=512, out_features=1536, bias=True)\n",
       "          (linear_layer): Linear(in_features=512, out_features=512, bias=True)\n",
       "        )\n",
       "        (norm1): LayerNormalization()\n",
       "        (dropout1): Dropout(p=0.1, inplace=False)\n",
       "        (ffn): PositionwiseFeedForward(\n",
       "          (linear1): Linear(in_features=512, out_features=2048, bias=True)\n",
       "          (linear2): Linear(in_features=2048, out_features=512, bias=True)\n",
       "          (relu): ReLU()\n",
       "          (dropout): Dropout(p=0.1, inplace=False)\n",
       "        )\n",
       "        (norm2): LayerNormalization()\n",
       "        (dropout2): Dropout(p=0.1, inplace=False)\n",
       "      )\n",
       "      (3): EncoderLayer(\n",
       "        (attention): MultiHeadAttention(\n",
       "          (qkv_layer): Linear(in_features=512, out_features=1536, bias=True)\n",
       "          (linear_layer): Linear(in_features=512, out_features=512, bias=True)\n",
       "        )\n",
       "        (norm1): LayerNormalization()\n",
       "        (dropout1): Dropout(p=0.1, inplace=False)\n",
       "        (ffn): PositionwiseFeedForward(\n",
       "          (linear1): Linear(in_features=512, out_features=2048, bias=True)\n",
       "          (linear2): Linear(in_features=2048, out_features=512, bias=True)\n",
       "          (relu): ReLU()\n",
       "          (dropout): Dropout(p=0.1, inplace=False)\n",
       "        )\n",
       "        (norm2): LayerNormalization()\n",
       "        (dropout2): Dropout(p=0.1, inplace=False)\n",
       "      )\n",
       "    )\n",
       "  )\n",
       "  (decoder): Decoder(\n",
       "    (sentence_embedding): SentenceEmbedding(\n",
       "      (embedding): Embedding(118, 512)\n",
       "      (position_encoder): PositionalEncoding()\n",
       "      (dropout): Dropout(p=0.1, inplace=False)\n",
       "    )\n",
       "    (layers): SequentialDecoder(\n",
       "      (0): DecoderLayer(\n",
       "        (self_attention): MultiHeadAttention(\n",
       "          (qkv_layer): Linear(in_features=512, out_features=1536, bias=True)\n",
       "          (linear_layer): Linear(in_features=512, out_features=512, bias=True)\n",
       "        )\n",
       "        (layer_norm1): LayerNormalization()\n",
       "        (dropout1): Dropout(p=0.1, inplace=False)\n",
       "        (encoder_decoder_attention): MultiHeadCrossAttention(\n",
       "          (kv_layer): Linear(in_features=512, out_features=1024, bias=True)\n",
       "          (q_layer): Linear(in_features=512, out_features=512, bias=True)\n",
       "          (linear_layer): Linear(in_features=512, out_features=512, bias=True)\n",
       "        )\n",
       "        (layer_norm2): LayerNormalization()\n",
       "        (dropout2): Dropout(p=0.1, inplace=False)\n",
       "        (ffn): PositionwiseFeedForward(\n",
       "          (linear1): Linear(in_features=512, out_features=2048, bias=True)\n",
       "          (linear2): Linear(in_features=2048, out_features=512, bias=True)\n",
       "          (relu): ReLU()\n",
       "          (dropout): Dropout(p=0.1, inplace=False)\n",
       "        )\n",
       "        (layer_norm3): LayerNormalization()\n",
       "        (dropout3): Dropout(p=0.1, inplace=False)\n",
       "      )\n",
       "      (1): DecoderLayer(\n",
       "        (self_attention): MultiHeadAttention(\n",
       "          (qkv_layer): Linear(in_features=512, out_features=1536, bias=True)\n",
       "          (linear_layer): Linear(in_features=512, out_features=512, bias=True)\n",
       "        )\n",
       "        (layer_norm1): LayerNormalization()\n",
       "        (dropout1): Dropout(p=0.1, inplace=False)\n",
       "        (encoder_decoder_attention): MultiHeadCrossAttention(\n",
       "          (kv_layer): Linear(in_features=512, out_features=1024, bias=True)\n",
       "          (q_layer): Linear(in_features=512, out_features=512, bias=True)\n",
       "          (linear_layer): Linear(in_features=512, out_features=512, bias=True)\n",
       "        )\n",
       "        (layer_norm2): LayerNormalization()\n",
       "        (dropout2): Dropout(p=0.1, inplace=False)\n",
       "        (ffn): PositionwiseFeedForward(\n",
       "          (linear1): Linear(in_features=512, out_features=2048, bias=True)\n",
       "          (linear2): Linear(in_features=2048, out_features=512, bias=True)\n",
       "          (relu): ReLU()\n",
       "          (dropout): Dropout(p=0.1, inplace=False)\n",
       "        )\n",
       "        (layer_norm3): LayerNormalization()\n",
       "        (dropout3): Dropout(p=0.1, inplace=False)\n",
       "      )\n",
       "      (2): DecoderLayer(\n",
       "        (self_attention): MultiHeadAttention(\n",
       "          (qkv_layer): Linear(in_features=512, out_features=1536, bias=True)\n",
       "          (linear_layer): Linear(in_features=512, out_features=512, bias=True)\n",
       "        )\n",
       "        (layer_norm1): LayerNormalization()\n",
       "        (dropout1): Dropout(p=0.1, inplace=False)\n",
       "        (encoder_decoder_attention): MultiHeadCrossAttention(\n",
       "          (kv_layer): Linear(in_features=512, out_features=1024, bias=True)\n",
       "          (q_layer): Linear(in_features=512, out_features=512, bias=True)\n",
       "          (linear_layer): Linear(in_features=512, out_features=512, bias=True)\n",
       "        )\n",
       "        (layer_norm2): LayerNormalization()\n",
       "        (dropout2): Dropout(p=0.1, inplace=False)\n",
       "        (ffn): PositionwiseFeedForward(\n",
       "          (linear1): Linear(in_features=512, out_features=2048, bias=True)\n",
       "          (linear2): Linear(in_features=2048, out_features=512, bias=True)\n",
       "          (relu): ReLU()\n",
       "          (dropout): Dropout(p=0.1, inplace=False)\n",
       "        )\n",
       "        (layer_norm3): LayerNormalization()\n",
       "        (dropout3): Dropout(p=0.1, inplace=False)\n",
       "      )\n",
       "      (3): DecoderLayer(\n",
       "        (self_attention): MultiHeadAttention(\n",
       "          (qkv_layer): Linear(in_features=512, out_features=1536, bias=True)\n",
       "          (linear_layer): Linear(in_features=512, out_features=512, bias=True)\n",
       "        )\n",
       "        (layer_norm1): LayerNormalization()\n",
       "        (dropout1): Dropout(p=0.1, inplace=False)\n",
       "        (encoder_decoder_attention): MultiHeadCrossAttention(\n",
       "          (kv_layer): Linear(in_features=512, out_features=1024, bias=True)\n",
       "          (q_layer): Linear(in_features=512, out_features=512, bias=True)\n",
       "          (linear_layer): Linear(in_features=512, out_features=512, bias=True)\n",
       "        )\n",
       "        (layer_norm2): LayerNormalization()\n",
       "        (dropout2): Dropout(p=0.1, inplace=False)\n",
       "        (ffn): PositionwiseFeedForward(\n",
       "          (linear1): Linear(in_features=512, out_features=2048, bias=True)\n",
       "          (linear2): Linear(in_features=2048, out_features=512, bias=True)\n",
       "          (relu): ReLU()\n",
       "          (dropout): Dropout(p=0.1, inplace=False)\n",
       "        )\n",
       "        (layer_norm3): LayerNormalization()\n",
       "        (dropout3): Dropout(p=0.1, inplace=False)\n",
       "      )\n",
       "    )\n",
       "  )\n",
       "  (linear): Linear(in_features=512, out_features=118, bias=True)\n",
       ")"
      ]
     },
     "execution_count": 13,
     "metadata": {},
     "output_type": "execute_result"
    }
   ],
   "source": [
    "transformer"
   ]
  },
  {
   "cell_type": "code",
   "execution_count": 14,
   "metadata": {
    "id": "asUJX-STy7fg"
   },
   "outputs": [],
   "source": [
    "from torch.utils.data import Dataset, DataLoader\n",
    "\n",
    "class TextDataset(Dataset):\n",
    "\n",
    "    def __init__(self, english_sentences, hindi_sentences):\n",
    "        self.english_sentences = english_sentences\n",
    "        self.hindi_sentences = hindi_sentences\n",
    "\n",
    "    def __len__(self):\n",
    "        return len(self.english_sentences)\n",
    "\n",
    "    def __getitem__(self, idx):\n",
    "        return self.english_sentences[idx], self.hindi_sentences[idx]"
   ]
  },
  {
   "cell_type": "code",
   "execution_count": 15,
   "metadata": {
    "id": "-auNWjkdzDge"
   },
   "outputs": [],
   "source": [
    "dataset = TextDataset(english_sentences, hindi_sentences)"
   ]
  },
  {
   "cell_type": "code",
   "execution_count": 16,
   "metadata": {
    "colab": {
     "base_uri": "https://localhost:8080/"
    },
    "id": "roH2A4m4zF4z",
    "outputId": "f2ad0ae4-75cb-4be1-eb0b-dfa7294151a4"
   },
   "outputs": [
    {
     "data": {
      "text/plain": [
       "619944"
      ]
     },
     "execution_count": 16,
     "metadata": {},
     "output_type": "execute_result"
    }
   ],
   "source": [
    "len(dataset)"
   ]
  },
  {
   "cell_type": "code",
   "execution_count": 17,
   "metadata": {
    "colab": {
     "base_uri": "https://localhost:8080/"
    },
    "id": "HGeHNlzozIGF",
    "outputId": "9e5c3802-0ef6-4a12-938a-81487187387a"
   },
   "outputs": [
    {
     "data": {
      "text/plain": [
       "('the default plugin layout for the top panel',\n",
       " 'ऊपरी पटल के लिए डिफोल्ट प्लग-इन खाका')"
      ]
     },
     "execution_count": 17,
     "metadata": {},
     "output_type": "execute_result"
    }
   ],
   "source": [
    "dataset[1]"
   ]
  },
  {
   "cell_type": "code",
   "execution_count": 18,
   "metadata": {
    "id": "5YDttjQ0zMrv"
   },
   "outputs": [],
   "source": [
    "train_loader = DataLoader(dataset, batch_size)\n",
    "iterator = iter(train_loader)"
   ]
  },
  {
   "cell_type": "code",
   "execution_count": 19,
   "metadata": {
    "colab": {
     "base_uri": "https://localhost:8080/"
    },
    "id": "9EnjHKB1zM8Y",
    "outputId": "264e4e0f-06e8-406f-d3c1-c1b37ee334cd"
   },
   "outputs": [
    {
     "name": "stdout",
     "output_type": "stream",
     "text": [
      "[('the default plugin layout for the bottom panel', 'the default plugin layout for the top panel', 'a list of plugins that are disabled by default', 'highlight border color', 'highlight fill color', 'api browser', 'browse the various methods of the current accessible', 'hide private attributes', 'method', 'property', 'value', 'ipython console', 'event monitor', 'everything', 'selected accessible', 'source', 'event monitor', 'shows events as they occur from selected types and sources', 'start / stop event recording', 'clear event log', '(no description)', 'description', 'show', '_ accessible', 'perform action', 'id', 'toolkit', 'version', 'col _ lection', '0, 0'), ('निचले पटल के लिए डिफोल्ट प्लग-इन खाका', 'ऊपरी पटल के लिए डिफोल्ट प्लग-इन खाका', 'उन प्लग-इनों की सूची जिन्हें डिफोल्ट रूप से निष्क्रिय किया गया है', 'सीमांत (बोर्डर) के रंग को हाइलाइट करें', 'भराई के रंग को हाइलाइट करें', 'एपीआई विचरक', 'इस समय जिसे प्राप्त किया गया हो, उसकी विभिन्न विधियों (मेथड) में विचरण करें', 'निजी गुणों को छिपाएं', 'विधि', 'गुणधर्म', 'मान', 'आईपाइथन कन्सोल', 'घटना मानिटर', 'सभी', 'चुने गए एक्सेसेबेल', 'स्रोत', 'घटना मानिटर', 'चुने गए प्रकारों और स्रोतों से घटनाएं जैसे-जैसे घटित होती हैं, उन्हें दर्शाता है', 'घटना रेकोर्डिंग शुरू करो/रोको', 'घटना रोजनामचा मिटाओ', 'कोई विवरण नहीं', 'वर्णन', 'दिखाएं', 'पहुंचनीय', 'कार्रवाई संपन्न करें', 'आईडी', 'औजार बक्सा', 'संस्करण', 'संग्रह', '0, 0')]\n",
      "[('relative position', 'size', 'widget', 'layer', 'mdi - z - order', 'absolute position', 'co _ mponent', 'des _ ktop', 'locale:', '_ document', 'hyperlink', 'h _ ypertext', 'position', 'description', 'locale', 'lo _ gin helper', 'select all', 'st _ reamable content', 'selected columns', 'selected rows', 'columns', 'rows', 'header:', 'extents:', 'row', 'column', 'offset', 'include defaults', 'current value', 'minimum increment'), ('सापेक्ष स्थिति', 'आकार', 'विडजेट', 'स्तर', 'एमडीआई-जेड-क्रम', 'निरपेक्ष स्थिति', 'घटक', 'डेस्कटोप', 'स्थान-विशिष्टः', 'प्रलेख', 'हाइपरकड़ी', 'हाइपरपाठ', 'स्थिति', 'वर्णन', 'स्थान-विशिष्ट', 'प्रवेश सहायक', 'सभी चुनें', 'प्रवाहित करनेयोग्य विषयवस्तु', 'चुने गए स्तंभ', 'चुनी गई पंक्तियां', 'स्तंभ', 'पंक्तियां', 'शीर्षकः', 'विस्तारः', 'पंक्ति', 'स्तंभ', 'ओफसेट', 'डिफोल्टों को शामिल करें', 'मौजूदा मान', 'न्यूनतम वृद्धि')]\n",
      "[('minimum value', 'val _ ue', '(not implemented)', 'name', 'uri', 'start', 'quick select', 'plugin with various methods of selecting accessibles quickly.', 'native', 'dogtail', 'ldtp', 'script type', 'script recorder', 'creates dogtail style scripts', 'confirm clear', 'sche _ ma:', 'v _ alidate', 'idle', 'no description', 'at - spi validator', 'level', 'role', 'saving', 'validating', 'error', 'warn', 'info', 'debug', 'basic', 'children'), ('न्यूनतम मान', 'मान', '(क्रियान्वित नहीं हुआ है) ', 'नाम', 'यूआरआई', 'प्रारंभ', 'तेज चुनाव', 'प्लग-इन जिसमें हैं एक्सेसेबेलों को तेजी से चुनने के लिए कई विधियां', 'वतनी', 'श्वानपुच्छ', 'एलडीटीपी', 'लिपि प्रकार', 'लिपि रेकोर्डर', 'श्वानपुच्छ शैली की लिपियां निर्मित करता है', 'मिटाने की पुष्टि करें', 'स्कीमाः', 'सत्यापन', 'खाली', 'कोई विवरण नहीं', 'एटी-एसपीआई सत्यापक', 'स्तर', 'भूमिका', 'सहेज रहे हैं', 'पुष्टि कर रहे हैं', 'त्रुटि', 'चेतावनी', 'सूचना', 'दोषमुक्त करें', 'मूल', 'शिशु')]\n",
      "[('refresh all', \"refresh selected node 's children\", 'component', 'task', 'key', 'alt', 'ctrl', 'shift', 'top panel', 'bottom panel', 'accerciser preferences', 'plugins', 'global hotkeys', 'highlighting', 'border color:', 'the border color of the highlight box', 'fill color:', 'the fill color of the highlight box', 'the new bsd license see the copying and notice files for details.', 'web site', 'bookmark selected accessible.', 'edit bookmarks...', 'title', 'path', 'add bookmark...', 'title:', 'path:', 'plugin errors', 'view', 'no view'), ('सभी को ताजा करें', 'चुनी गई आसंधियों (नोड) के शिशुओं को ताजा करें', 'घटक', 'कार्य', 'कुंजी', 'आल्ट', 'कंट्रोल', 'शिफ्ट', 'ऊपरी पटल', 'निचला पटल', 'एक्सेर्साइसर पसंद', 'प्लगइन्स', 'सार्वत्रिक फटाफट कुंजियां', 'हाइलाइटन', 'सीमांत रंगः', 'हाइलाइट बक्से का सीमांत रंग', 'भराई का रंगः', 'हाइलाइट बक्से का भराई रंग', 'नया बीएसडी लाइसेन्स विवरण के लिए देखिए प्रतिलिपीकरण और सूचना फाइलें', 'जाल स्थल', 'चुने गए एक्सेसेबलों को पुस्तक-चिह्नित करें', 'पुस्तक चिह्नों को संपादित करें... ', 'शीर्षक', 'पथ', 'पुस्तक-चिह्न जोड़ें... ', 'शीर्षकः', 'पथः', 'प्लग-इन त्रुटियां', 'दृश्य', 'कोई दृश्य नहीं है')]\n",
      "[('_ single plugins view', 'plugin view', '_ new view...', 'new view...', '_ edit', '_ help', 'full name', 'key binding', 'content type', 'the default plugin layout for the bottom panel', 'the default plugin layout for the top panel', 'a list of plugins that are disabled by default', 'highlight border color', 'highlight fill color', 'api browser', 'browse the various methods of the current accessible', 'hide private attributes', 'method', 'property', 'value', 'ipython console', 'event monitor', 'everything', 'selected accessible', 'source', 'event monitor', 'shows events as they occur from selected types and sources', 'start / stop event recording', 'clear event log', '(no description)'), ('एकल प्लग-इन दृश्य', 'प्लग-इन दृश्य', 'नया दृश्य... ', 'नया दृश्य... ', 'संपादित करें', 'मदद', 'पूरा नाम', 'कुंजी बंधन', 'विषय प्रकार', 'निचले पटल के लिए डिफोल्ट प्लग-इन खाका', 'ऊपरी पटल के लिए डिफोल्ट प्लग-इन खाका', 'उन प्लग-इनों की सूची जिन्हें डिफोल्ट रूप से निष्क्रिय किया गया है', 'सीमांत (बोर्डर) के रंग को हाइलाइट करें', 'भराई के रंग को हाइलाइट करें', 'एपीआई विचरक', 'इस समय जिसे प्राप्त किया गया हो, उसकी विभिन्न विधियों (मेथड) में विचरण करें', 'निजी गुणों को छिपाएं', 'विधि', 'गुणधर्म', 'मान', 'आईपाइथन कन्सोल', 'घटना मानिटर', 'सभी', 'चुने गए एक्सेसेबेल', 'स्रोत', 'घटना मानिटर', 'चुने गए प्रकारों और स्रोतों से घटनाएं जैसे-जैसे घटित होती हैं, उन्हें दर्शाता है', 'घटना रेकोर्डिंग शुरू करो/रोको', 'घटना रोजनामचा मिटाओ', 'कोई विवरण नहीं')]\n"
     ]
    }
   ],
   "source": [
    "for batch_num, batch in enumerate(iterator):\n",
    "    print(batch)\n",
    "    if batch_num > 3:\n",
    "        break"
   ]
  },
  {
   "cell_type": "code",
   "execution_count": 20,
   "metadata": {
    "id": "XnanjzqtzQi8"
   },
   "outputs": [],
   "source": [
    "from torch import nn\n",
    "\n",
    "criterian = nn.CrossEntropyLoss(ignore_index=hindi_to_index[PADDING_TOKEN],\n",
    "                                reduction='none')\n",
    "\n",
    "# When computing the loss, we are ignoring cases when the label is the padding token\n",
    "for params in transformer.parameters():\n",
    "    if params.dim() > 1:\n",
    "        nn.init.xavier_uniform_(params)\n",
    "\n",
    "optim = torch.optim.Adam(transformer.parameters(), lr=1e-4)\n",
    "device = torch.device('cuda') #if torch.cuda.is_available() else torch.device('cpu')"
   ]
  },
  {
   "cell_type": "code",
   "execution_count": 21,
   "metadata": {
    "id": "_saWU5QmVem2"
   },
   "outputs": [],
   "source": [
    "NEG_INFTY = -1e9\n",
    "\n",
    "def create_masks(eng_batch, hi_batch):\n",
    "    num_sentences = len(eng_batch)\n",
    "    look_ahead_mask = torch.full([max_sequence_length, max_sequence_length] , True)\n",
    "    look_ahead_mask = torch.triu(look_ahead_mask, diagonal=1)\n",
    "    encoder_padding_mask = torch.full([num_sentences, max_sequence_length, max_sequence_length] , False)\n",
    "    decoder_padding_mask_self_attention = torch.full([num_sentences, max_sequence_length, max_sequence_length] , False)\n",
    "    decoder_padding_mask_cross_attention = torch.full([num_sentences, max_sequence_length, max_sequence_length] , False)\n",
    "\n",
    "    for idx in range(num_sentences):\n",
    "      eng_sentence_length, hi_sentence_length = len(eng_batch[idx]), len(hi_batch[idx])\n",
    "      eng_chars_to_padding_mask = np.arange(eng_sentence_length + 1, max_sequence_length)\n",
    "      hi_chars_to_padding_mask = np.arange(hi_sentence_length + 1, max_sequence_length)\n",
    "      encoder_padding_mask[idx, :, eng_chars_to_padding_mask] = True\n",
    "      encoder_padding_mask[idx, eng_chars_to_padding_mask, :] = True\n",
    "      decoder_padding_mask_self_attention[idx, :, hi_chars_to_padding_mask] = True\n",
    "      decoder_padding_mask_self_attention[idx, hi_chars_to_padding_mask, :] = True\n",
    "      decoder_padding_mask_cross_attention[idx, :, eng_chars_to_padding_mask] = True\n",
    "      decoder_padding_mask_cross_attention[idx, hi_chars_to_padding_mask, :] = True\n",
    "\n",
    "    encoder_self_attention_mask = torch.where(encoder_padding_mask, NEG_INFTY, 0)\n",
    "    decoder_self_attention_mask =  torch.where(look_ahead_mask + decoder_padding_mask_self_attention, NEG_INFTY, 0)\n",
    "    decoder_cross_attention_mask = torch.where(decoder_padding_mask_cross_attention, NEG_INFTY, 0)\n",
    "    return encoder_self_attention_mask, decoder_self_attention_mask, decoder_cross_attention_mask"
   ]
  },
  {
   "cell_type": "markdown",
   "metadata": {
    "id": "gdgtTSKvwN9_"
   },
   "source": [
    "Modify mask such that the padding tokens cannot look ahead.\n",
    "In Encoder, tokens before it should be -1e9 while tokens after it should be -inf.\n"
   ]
  },
  {
   "cell_type": "markdown",
   "metadata": {
    "id": "xLcXI4wkMLck"
   },
   "source": [
    "Note the target mask starts with 2 rows of non masked items: https://github.com/SamLynnEvans/Transformer/blob/master/Beam.py#L55\n"
   ]
  },
  {
   "cell_type": "code",
   "execution_count": null,
   "metadata": {
    "colab": {
     "base_uri": "https://localhost:8080/"
    },
    "id": "ju59VDGLuOqf",
    "outputId": "71d4ddf9-96b9-4414-c82f-8fdab7f6fd5e"
   },
   "outputs": [
    {
     "name": "stdout",
     "output_type": "stream",
     "text": [
      "Epoch 0\n",
      "Iteration 0 : 5.364475727081299\n",
      "English: the default plugin layout for the bottom panel\n",
      "hindi Translation: निचले पटल के लिए डिफोल्ट प्लग-इन खाका\n",
      "hindi Prediction: (४४४(४४(४४४४४४४४४ह४४४(४(४४((४४(४(४४*(आ(((े((ट४े(((((फ़ट(((\"ट(टट(ट(ट(((४४((((((४(टट(((((((४टब((((((४फ़ट४((फ़४फ़४ट7(४(४४(४ट४(४((ट(फ़(((((४((((व((४\"((औ((((१((ू(४((४(((((ऱ(१((((औव(४(आ((&ट*(((४(४ट((१४(ट(ट(((४४ट\n",
      "Evaluation translation (should we go to the mall?) : ('                                                                                                                                                                                                        ',)\n",
      "-------------------------------------------\n",
      "Iteration 100 : 3.443962574005127\n",
      "English: move ~ a onto the three of diamonds.\n",
      "hindi Translation: ईंट की तिक्की\n",
      "hindi Prediction:     काक क  कककका क      ा    ा क  क    क    क कक    क क ाा  ा ा   कक कक  कककक   क  कक कक क क क क क  कक  ककक    कक   क   क    ाक क  ाक ा ा क  क      क ा कााककक कक      क   क         क   कका  क क ा  क ा\n",
      "Evaluation translation (should we go to the mall?) : ('ाााााााााााााााााााााााााााााााााााााााााााााााााााााााााााााााााााााााााााााााााााााााााााााााााााााााााााााााााााााााााााााााााााााााााााााााााााााााााााााााााााााााााााााााााााााााााााााााााााााााा',)\n",
      "-------------------------------------------\n",
      "Iteration 200 : 3.429986000061035\n",
      "English: _ glade\n",
      "hindi Translation: ग्लेड फाइल\n",
      "hindi Prediction: ाससा\n",
      "Evaluation translation (should we go to the mall?) : ('प्््                                                                                                                                                                                                    ',)\n",
      "-------------------------------------------\n",
      "Iteration 300 : 3.4355969429016113\n",
      "English: files\n",
      "hindi Translation: फ़ाइल\n",
      "hindi Prediction: पर\n",
      "Evaluation translation (should we go to the mall?) : ('सा                                                                                                                                                                                                      ',)\n",
      "-------------------------------------------\n",
      "Iteration 400 : 3.3940703868865967\n",
      "English: trust server\n",
      "hindi Translation: ट्रस्ट सर्वर\n",
      "hindi Prediction: स््र   र   \n",
      "Evaluation translation (should we go to the mall?) : ('प्र्    ्         <ET>',)\n",
      "-------------------------------------------\n",
      "Iteration 500 : 3.1328284740448\n",
      "English: cvs preferences\n",
      "hindi Translation: सीवीएस वरीयताएं\n",
      "hindi Prediction: स्ल्   स्् \n",
      "Evaluation translation (should we go to the mall?) : ('स्र्र्र्र्र्र्र्र्र्र्र्र्र्र्र<ET>',)\n",
      "-------------------------------------------\n",
      "Iteration 600 : 2.8230888843536377\n",
      "English: is used to notify that the table column description has changed\n",
      "hindi Translation: पहुँच योग्य सारणी स्तंभ वर्णन बदल चुका है यह बताने हेतु उपयोग में आता है\n",
      "hindi Prediction: सुु   यह  त यात्  स्त   याात  हत  हाता ह  ता य     या   व  ा ात   ह   य   हहहहह हहह हहहहहहहाहहहहहहहहहाह ाहाहाहहा हहहह ाा  ा हाााााााााा ाहुााााा ा ाहाहााहा ाहाह ाहहहाहहहााहहााहह ाहाह     ह   ाह   ाहाह\n",
      "Evaluation translation (should we go to the mall?) : ('स्यार सो प्या पार्य्या पा पात पाता पा यातात पा स पा पा पा पा या पा पाताता पात पह<ET>',)\n",
      "-------------------------------------------\n",
      "Iteration 700 : 2.7044339179992676\n",
      "English: the drive is busy\n",
      "hindi Translation: यह ड्राइव व्यस्त है\n",
      "hindi Prediction: पिासाका   पायााक का              \n",
      "Evaluation translation (should we go to the mall?) : ('किसा का का का का का का का का का का<ET>',)\n",
      "-------------------------------------------\n",
      "Iteration 800 : 2.5297563076019287\n",
      "English: open the blank disc dialog\n",
      "hindi Translation: खाली डिस्क संवाद खोलें\n",
      "hindi Prediction: डिइ  कीर्र क्    का           ा           ा                                                                   ाा                                 ा ा ाा     ा  ा          ा ा                           \n",
      "Evaluation translation (should we go to the mall?) : ('डिस्क डिक का काइ का का है<ET>',)\n",
      "-------------------------------------------\n",
      "Iteration 900 : 2.387326240539551\n",
      "English: pack start\n",
      "hindi Translation: पैक प्रारंभ\n",
      "hindi Prediction: प्क्स्र् ्\n",
      "Evaluation translation (should we go to the mall?) : ('क्या क्ता केट काई<ET>',)\n",
      "-------------------------------------------\n",
      "Iteration 1000 : 2.2959368228912354\n",
      "English: position on the screen of the druid window\n",
      "hindi Translation: ड्रयूड विंडो के स्क्रीन पर स्थिति\n",
      "hindi Prediction: किर्ा  सिंडो क् स्रिरा  क््क्रात                                                                                                                                                                        \n",
      "Evaluation translation (should we go to the mall?) : ('संक्र्त कोडित करें<ET>',)\n",
      "-------------------------------------------\n"
     ]
    }
   ],
   "source": [
    "transformer.train()\n",
    "transformer.to(device)\n",
    "total_loss = 0\n",
    "num_epochs = 10\n",
    "\n",
    "for epoch in range(num_epochs):\n",
    "    print(f\"Epoch {epoch}\")\n",
    "    iterator = iter(train_loader)\n",
    "    for batch_num, batch in enumerate(iterator):\n",
    "        transformer.train()\n",
    "        eng_batch, hi_batch = batch\n",
    "        encoder_self_attention_mask, decoder_self_attention_mask, decoder_cross_attention_mask = create_masks(eng_batch, hi_batch)\n",
    "        optim.zero_grad()\n",
    "        hi_predictions = transformer(eng_batch,\n",
    "                                     hi_batch,\n",
    "                                     encoder_self_attention_mask.to(device),\n",
    "                                     decoder_self_attention_mask.to(device),\n",
    "                                     decoder_cross_attention_mask.to(device),\n",
    "                                     enc_start_token=False,\n",
    "                                     enc_end_token=False,\n",
    "                                     dec_start_token=True,\n",
    "                                     dec_end_token=True)\n",
    "        labels = transformer.decoder.sentence_embedding.batch_tokenize(hi_batch, start_token=False, end_token=True)\n",
    "        loss = criterian(\n",
    "            hi_predictions.view(-1, hi_vocab_size).to(device),\n",
    "            labels.view(-1).to(device)\n",
    "        ).to(device)\n",
    "        valid_indicies = torch.where(labels.view(-1) == hindi_to_index[PADDING_TOKEN], False, True)\n",
    "        loss = loss.sum() / valid_indicies.sum()\n",
    "        loss.backward()\n",
    "        optim.step()\n",
    "\n",
    "        \n",
    "        #Validation\n",
    "        if batch_num % 100 == 0:\n",
    "            print(f\"Iteration {batch_num} : {loss.item()}\")\n",
    "            print(f\"English: {eng_batch[0]}\")\n",
    "            print(f\"hindi Translation: {hi_batch[0]}\")\n",
    "            hi_sentence_predicted = torch.argmax(hi_predictions[0], axis=1)\n",
    "            predicted_sentence = \"\"\n",
    "            for idx in hi_sentence_predicted:\n",
    "              if idx == hindi_to_index[END_TOKEN]:\n",
    "                break\n",
    "              predicted_sentence += index_to_hindi[idx.item()]\n",
    "            print(f\"hindi Prediction: {predicted_sentence}\")\n",
    "\n",
    "\n",
    "            transformer.eval()\n",
    "            hi_sentence = (\"\",)\n",
    "            eng_sentence = (\"should we go to the mall?\",)\n",
    "            for word_counter in range(max_sequence_length):\n",
    "                encoder_self_attention_mask, decoder_self_attention_mask, decoder_cross_attention_mask= create_masks(eng_sentence, hi_sentence)\n",
    "                predictions = transformer(eng_sentence,\n",
    "                                          hi_sentence,\n",
    "                                          encoder_self_attention_mask.to(device),\n",
    "                                          decoder_self_attention_mask.to(device),\n",
    "                                          decoder_cross_attention_mask.to(device),\n",
    "                                          enc_start_token=False,\n",
    "                                          enc_end_token=False,\n",
    "                                          dec_start_token=True,\n",
    "                                          dec_end_token=False)\n",
    "                next_token_prob_distribution = predictions[0][word_counter] # not actual probs\n",
    "                next_token_index = torch.argmax(next_token_prob_distribution).item()\n",
    "                next_token = index_to_hindi[next_token_index]\n",
    "                hi_sentence = (hi_sentence[0] + next_token, )\n",
    "                if next_token == END_TOKEN:\n",
    "                  break\n",
    "\n",
    "            print(f\"Evaluation translation (should we go to the mall?) : {hi_sentence}\")\n",
    "            print(\"-------------------------------------------\")\n",
    "\n",
    "    model_filename = f\"D:/SEM - 3/Project/Translation/model{epoch}.pt\"\n",
    "    torch.save({\n",
    "            'epoch': epoch,\n",
    "            'model_state_dict': transformer.state_dict(),\n",
    "            'optimizer_state_dict': optim.state_dict()\n",
    "            }, model_filename)\n"
   ]
  },
  {
   "cell_type": "markdown",
   "metadata": {
    "id": "1nosVPGVijId"
   },
   "source": [
    "## Inference"
   ]
  },
  {
   "cell_type": "code",
   "execution_count": null,
   "metadata": {
    "id": "ZOQe-juylBiJ"
   },
   "outputs": [],
   "source": [
    "transformer.eval()\n",
    "def translate(eng_sentence):\n",
    "  eng_sentence = (eng_sentence,)\n",
    "  hi_sentence = (\"\",)\n",
    "  for word_counter in range(max_sequence_length):\n",
    "    encoder_self_attention_mask, decoder_self_attention_mask, decoder_cross_attention_mask= create_masks(eng_sentence, hi_sentence)\n",
    "    predictions = transformer(eng_sentence,\n",
    "                              hi_sentence,\n",
    "                              encoder_self_attention_mask.to(device),\n",
    "                              decoder_self_attention_mask.to(device),\n",
    "                              decoder_cross_attention_mask.to(device),\n",
    "                              enc_start_token=False,\n",
    "                              enc_end_token=False,\n",
    "                              dec_start_token=True,\n",
    "                              dec_end_token=False)\n",
    "    next_token_prob_distribution = predictions[0][word_counter]\n",
    "    next_token_index = torch.argmax(next_token_prob_distribution).item()\n",
    "    next_token = index_to_hindi[next_token_index]\n",
    "    hi_sentence = (hi_sentence[0] + next_token, )\n",
    "    if next_token == END_TOKEN:\n",
    "      break\n",
    "  return hi_sentence[0]"
   ]
  },
  {
   "cell_type": "code",
   "execution_count": null,
   "metadata": {
    "id": "BDVH_YsxlK6q"
   },
   "outputs": [],
   "source": [
    "translation = translate(\"what should we do when the day starts?\")\n",
    "print(translation)\n"
   ]
  },
  {
   "cell_type": "code",
   "execution_count": null,
   "metadata": {
    "id": "l9yfawBnul0W"
   },
   "outputs": [],
   "source": [
    "translation = translate(\"how is this the truth?\")\n",
    "print(translation)\n"
   ]
  },
  {
   "cell_type": "code",
   "execution_count": null,
   "metadata": {
    "id": "jpdYBk5-urcQ"
   },
   "outputs": [],
   "source": [
    "translation = translate(\"the world is a large place with different people\")\n",
    "print(translation)\n"
   ]
  },
  {
   "cell_type": "code",
   "execution_count": null,
   "metadata": {
    "id": "Ni9e2UYUuxi3"
   },
   "outputs": [],
   "source": [
    "translation = translate(\"my name is ajay\")\n",
    "print(translation)\n"
   ]
  },
  {
   "cell_type": "code",
   "execution_count": null,
   "metadata": {
    "id": "sJuJKHqFldW3"
   },
   "outputs": [],
   "source": [
    "translation = translate(\"i cannot stand this smell\")\n",
    "print(translation)\n"
   ]
  },
  {
   "cell_type": "code",
   "execution_count": null,
   "metadata": {
    "id": "SxHC4Lirlfu8"
   },
   "outputs": [],
   "source": [
    "translation = translate(\"noodles are the best\")\n",
    "print(translation)"
   ]
  },
  {
   "cell_type": "code",
   "execution_count": null,
   "metadata": {
    "id": "mLVOSI0Oli16"
   },
   "outputs": [],
   "source": [
    "translation = translate(\"why care about this?\")\n",
    "print(translation)"
   ]
  },
  {
   "cell_type": "code",
   "execution_count": null,
   "metadata": {
    "id": "AB6TEJfGlkRT"
   },
   "outputs": [],
   "source": [
    "translation = translate(\"this is the best thing ever\")\n",
    "print(translation)\n"
   ]
  },
  {
   "cell_type": "code",
   "execution_count": null,
   "metadata": {
    "id": "BQwDbuWBlmmA"
   },
   "outputs": [],
   "source": [
    "translation = translate(\"i am here\")\n",
    "print(translation)\n"
   ]
  },
  {
   "cell_type": "code",
   "execution_count": null,
   "metadata": {
    "id": "7ifeV4bGluIj"
   },
   "outputs": [],
   "source": [
    "translation = translate(\"click this\")\n",
    "print(translation)\n"
   ]
  },
  {
   "cell_type": "code",
   "execution_count": null,
   "metadata": {
    "id": "8RB5DUBEl1kD"
   },
   "outputs": [],
   "source": [
    "translation = translate(\"where is the mall?\")\n",
    "print(translation)"
   ]
  },
  {
   "cell_type": "code",
   "execution_count": null,
   "metadata": {
    "id": "TdeJ9CvMn5LM"
   },
   "outputs": [],
   "source": [
    "translation = translate(\"what should we do?\")\n",
    "print(translation)"
   ]
  },
  {
   "cell_type": "markdown",
   "metadata": {
    "id": "LoikFnov1rj-"
   },
   "source": [
    "This is correct; but it absolutely fumbles on the next one"
   ]
  },
  {
   "cell_type": "code",
   "execution_count": null,
   "metadata": {
    "id": "7GFeyzrg1fIZ"
   },
   "outputs": [],
   "source": [
    "translation = translate(\"today, what should we do\")\n",
    "print(translation)"
   ]
  },
  {
   "cell_type": "code",
   "execution_count": null,
   "metadata": {
    "id": "0upygLS-sXcO"
   },
   "outputs": [],
   "source": [
    "translation = translate(\"why did they activate?\")\n",
    "print(translation)\n",
    "# ಅವರು ಏಕೆ ಸಕ್ರಿಯಗೊಳಿಸಿದರು?"
   ]
  },
  {
   "cell_type": "code",
   "execution_count": null,
   "metadata": {
    "id": "FSrsqEGmtcl2"
   },
   "outputs": [],
   "source": [
    "translation = translate(\"why did they do this?\")\n",
    "print(translation)\n",
    "# ಅವರು ಇದನ್ನು ಏಕೆ ಮಾಡಿದರು?"
   ]
  },
  {
   "cell_type": "markdown",
   "metadata": {
    "id": "f7ISM5rd3BLJ"
   },
   "source": [
    "That turned out well!"
   ]
  },
  {
   "cell_type": "code",
   "execution_count": null,
   "metadata": {
    "id": "zjTcH2HFtyld"
   },
   "outputs": [],
   "source": [
    "translation = translate(\"i am well.\")\n",
    "print(translation)\n",
    "# ನಾನು ಆರಾಮವಾಗಿದ್ದೇನೆ"
   ]
  },
  {
   "cell_type": "markdown",
   "metadata": {
    "id": "cP0YX2g74eP7"
   },
   "source": [
    "Translation: \"I will give you something\""
   ]
  },
  {
   "cell_type": "code",
   "execution_count": null,
   "metadata": {
    "id": "8pGdN13kt5Br"
   },
   "outputs": [],
   "source": [
    "translation = translate(\"whats the word on the street?\")\n",
    "print(translation)"
   ]
  },
  {
   "cell_type": "markdown",
   "metadata": {
    "id": "kFYZ6pOe4o-X"
   },
   "source": [
    "Kind of close semantically. Translation is something like: \"What is this about\""
   ]
  },
  {
   "cell_type": "markdown",
   "metadata": {
    "id": "BzrOcNUk1-e5"
   },
   "source": [
    "## Insights\n",
    "\n",
    "- When training, we can treat every alphabet as a single unit instead of splitting it into it's corresponding parts to preserve meaning. For example, ಮಾ should be 1 unit when comuting a loss. It should not be decomposed into ಮ + ఆ\n",
    "- Using word-based or BPE based tokenizations may help mitigate (1). Also, we will get valid word (or BPE) units if we do so.\n",
    "- Make sure the training set has a large variety of sentences that are not just about one topic like \"work\" and \"government\"\n",
    "- Increase the number of encoder / decoder units for better translations. It was set to the minimum of 1 of each unit here.\n",
    "- Create a translator with a language you understand ideally."
   ]
  },
  {
   "cell_type": "markdown",
   "metadata": {
    "id": "cd6_k0Uu5V7f"
   },
   "source": [
    "Overall, this model definately learned something. And you can use other languages instead of this hindi language and might see better luck"
   ]
  },
  {
   "cell_type": "code",
   "execution_count": null,
   "metadata": {},
   "outputs": [],
   "source": []
  }
 ],
 "metadata": {
  "accelerator": "GPU",
  "colab": {
   "gpuType": "T4",
   "provenance": []
  },
  "kernelspec": {
   "display_name": "Python 3 (ipykernel)",
   "language": "python",
   "name": "python3"
  },
  "language_info": {
   "codemirror_mode": {
    "name": "ipython",
    "version": 3
   },
   "file_extension": ".py",
   "mimetype": "text/x-python",
   "name": "python",
   "nbconvert_exporter": "python",
   "pygments_lexer": "ipython3",
   "version": "3.10.10"
  }
 },
 "nbformat": 4,
 "nbformat_minor": 4
}
